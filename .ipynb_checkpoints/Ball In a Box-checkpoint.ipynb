{
 "cells": [
  {
   "cell_type": "code",
   "execution_count": 11,
   "metadata": {},
   "outputs": [
    {
     "ename": "TclError",
     "evalue": "invalid command name \".!canvas\"",
     "output_type": "error",
     "traceback": [
      "\u001b[1;31m---------------------------------------------------------------------------\u001b[0m",
      "\u001b[1;31mTclError\u001b[0m                                  Traceback (most recent call last)",
      "\u001b[1;32m<ipython-input-11-e8abb2b9ee20>\u001b[0m in \u001b[0;36m<module>\u001b[1;34m()\u001b[0m\n\u001b[0;32m     29\u001b[0m     \u001b[0mtime\u001b[0m\u001b[1;33m.\u001b[0m\u001b[0msleep\u001b[0m\u001b[1;33m(\u001b[0m\u001b[1;36m.05\u001b[0m\u001b[1;33m)\u001b[0m\u001b[1;33m\u001b[0m\u001b[0m\n\u001b[0;32m     30\u001b[0m \u001b[1;33m\u001b[0m\u001b[0m\n\u001b[1;32m---> 31\u001b[1;33m     \u001b[1;32mif\u001b[0m \u001b[0mw\u001b[0m\u001b[1;33m.\u001b[0m\u001b[0mcoords\u001b[0m\u001b[1;33m(\u001b[0m\u001b[0mball1\u001b[0m\u001b[1;33m)\u001b[0m\u001b[1;33m[\u001b[0m\u001b[1;36m3\u001b[0m\u001b[1;33m]\u001b[0m \u001b[1;33m==\u001b[0m \u001b[1;36m500\u001b[0m \u001b[1;32mor\u001b[0m \u001b[0mw\u001b[0m\u001b[1;33m.\u001b[0m\u001b[0mcoords\u001b[0m\u001b[1;33m(\u001b[0m\u001b[0mball1\u001b[0m\u001b[1;33m)\u001b[0m\u001b[1;33m[\u001b[0m\u001b[1;36m1\u001b[0m\u001b[1;33m]\u001b[0m \u001b[1;33m==\u001b[0m \u001b[1;36m10\u001b[0m\u001b[1;33m:\u001b[0m\u001b[1;33m\u001b[0m\u001b[0m\n\u001b[0m\u001b[0;32m     32\u001b[0m         \u001b[0mdelta1\u001b[0m\u001b[1;33m[\u001b[0m\u001b[1;36m1\u001b[0m\u001b[1;33m]\u001b[0m \u001b[1;33m=\u001b[0m \u001b[1;33m-\u001b[0m\u001b[0mdelta1\u001b[0m\u001b[1;33m[\u001b[0m\u001b[1;36m1\u001b[0m\u001b[1;33m]\u001b[0m\u001b[1;33m\u001b[0m\u001b[0m\n\u001b[0;32m     33\u001b[0m     \u001b[1;32mif\u001b[0m \u001b[0mw\u001b[0m\u001b[1;33m.\u001b[0m\u001b[0mcoords\u001b[0m\u001b[1;33m(\u001b[0m\u001b[0mball1\u001b[0m\u001b[1;33m)\u001b[0m\u001b[1;33m[\u001b[0m\u001b[1;36m2\u001b[0m\u001b[1;33m]\u001b[0m \u001b[1;33m==\u001b[0m \u001b[1;36m500\u001b[0m \u001b[1;32mor\u001b[0m \u001b[0mw\u001b[0m\u001b[1;33m.\u001b[0m\u001b[0mcoords\u001b[0m\u001b[1;33m(\u001b[0m\u001b[0mball1\u001b[0m\u001b[1;33m)\u001b[0m\u001b[1;33m[\u001b[0m\u001b[1;36m0\u001b[0m\u001b[1;33m]\u001b[0m \u001b[1;33m==\u001b[0m \u001b[1;36m10\u001b[0m\u001b[1;33m:\u001b[0m\u001b[1;33m\u001b[0m\u001b[0m\n",
      "\u001b[1;32mC:\\ProgramData\\Anaconda3\\lib\\tkinter\\__init__.py\u001b[0m in \u001b[0;36mcoords\u001b[1;34m(self, *args)\u001b[0m\n\u001b[0;32m   2461\u001b[0m         return [self.tk.getdouble(x) for x in\n\u001b[0;32m   2462\u001b[0m                            self.tk.splitlist(\n\u001b[1;32m-> 2463\u001b[1;33m                    self.tk.call((self._w, 'coords') + args))]\n\u001b[0m\u001b[0;32m   2464\u001b[0m     \u001b[1;32mdef\u001b[0m \u001b[0m_create\u001b[0m\u001b[1;33m(\u001b[0m\u001b[0mself\u001b[0m\u001b[1;33m,\u001b[0m \u001b[0mitemType\u001b[0m\u001b[1;33m,\u001b[0m \u001b[0margs\u001b[0m\u001b[1;33m,\u001b[0m \u001b[0mkw\u001b[0m\u001b[1;33m)\u001b[0m\u001b[1;33m:\u001b[0m \u001b[1;31m# Args: (val, val, ..., cnf={})\u001b[0m\u001b[1;33m\u001b[0m\u001b[0m\n\u001b[0;32m   2465\u001b[0m         \u001b[1;34m\"\"\"Internal function.\"\"\"\u001b[0m\u001b[1;33m\u001b[0m\u001b[0m\n",
      "\u001b[1;31mTclError\u001b[0m: invalid command name \".!canvas\""
     ]
    }
   ],
   "source": [
    "from tkinter import *\n",
    "import time\n",
    "from math import *\n",
    "import numpy as np\n",
    "master = Tk()\n",
    "\n",
    "a = True\n",
    "val = sqrt(5)\n",
    "\n",
    "    \n",
    "\n",
    "QUIT = Button(master)\n",
    "QUIT[\"text\"] = \"QUIT\"\n",
    "QUIT[\"fg\"]   = \"red\"\n",
    "QUIT[\"command\"] =  master.quit\n",
    "QUIT.pack()\n",
    "\n",
    "w = Canvas(master, width=500, height=500)\n",
    "w.pack()\n",
    "\n",
    "delta1 = [5, 5]\n",
    "delta2 = [5, 5]\n",
    "pos1 = [240, 240, 250, 250]\n",
    "pos2 = [250, 240, 260, 250]\n",
    "ball1 = w.create_oval(pos1,fill = \"blue\")\n",
    "ball2 = w.create_oval(pos2,fill = \"red\")\n",
    "\n",
    "while a == True:\n",
    "    time.sleep(.05)\n",
    "     \n",
    "    if w.coords(ball1)[3] == 500 or w.coords(ball1)[1] == 10:\n",
    "        delta1[1] = -delta1[1]\n",
    "    if w.coords(ball1)[2] == 500 or w.coords(ball1)[0] == 10:\n",
    "        delta1[0] = -delta1[0]\n",
    "    if w.coords(ball2)[3] == 500 or w.coords(ball2)[1] == 10:\n",
    "        delta2[1] = -delta2[1]\n",
    "    if w.coords(ball2)[2] == 500 or w.coords(ball2)[0] == 10:\n",
    "        delta2[0] = -delta2[0]\n",
    "    w.move(ball1, delta1[0], delta1[1])\n",
    "    w.move(ball2, delta2[1], delta2[1])\n",
    "    master.update()\n",
    "corn1 = np.array([w.coords(ball1)[0], w.coords(ball1)[2]])\n",
    "corn2 = np.array([w.coords(ball2)[0], w.coords(ball2)[2]])\n",
    "y = corn2-corn1\n",
    "x = np.array([-y[1], y[0]])\n",
    "print(np.inner(x,y))    \n",
    "#w.create_rectangle(50, 25, 150, 75, fill=\"blue\")\n",
    "\n",
    "\n",
    "\n",
    "mainloop()\n",
    "master.destroy()"
   ]
  },
  {
   "cell_type": "code",
   "execution_count": 45,
   "metadata": {},
   "outputs": [
    {
     "data": {
      "text/plain": [
       "tuple"
      ]
     },
     "execution_count": 45,
     "metadata": {},
     "output_type": "execute_result"
    }
   ],
   "source": []
  },
  {
   "cell_type": "code",
   "execution_count": null,
   "metadata": {
    "collapsed": true
   },
   "outputs": [],
   "source": []
  }
 ],
 "metadata": {
  "kernelspec": {
   "display_name": "Python 3",
   "language": "python",
   "name": "python3"
  },
  "language_info": {
   "codemirror_mode": {
    "name": "ipython",
    "version": 3
   },
   "file_extension": ".py",
   "mimetype": "text/x-python",
   "name": "python",
   "nbconvert_exporter": "python",
   "pygments_lexer": "ipython3",
   "version": "3.6.3"
  }
 },
 "nbformat": 4,
 "nbformat_minor": 2
}
