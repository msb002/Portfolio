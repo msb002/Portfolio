{
 "cells": [
  {
   "cell_type": "code",
   "execution_count": 25,
   "metadata": {
    "collapsed": false
   },
   "outputs": [],
   "source": [
    "from tkinter import *\n",
    "import random\n",
    "import time\n",
    "\n",
    "class Application(Frame):\n",
    "    def rand(self):\n",
    "        self.speed.set(str(time.time()-self.init)[:4] + \"s\")\n",
    "        self.init = time.time()\n",
    "        self.wrong.grid_forget()\n",
    "        r = random.randint(1,3)\n",
    "        c = random.randint(1,3)\n",
    "        for i in range(1,4):\n",
    "            for j in range(1,4):\n",
    "                if (i,j) == (r, c):\n",
    "                    self.empty[str(i)+str(j)].grid_forget()\n",
    "                else:\n",
    "                    self.empty[str(i)+str(j)].grid(row = i, column = j)\n",
    "        self.follow[\"text\"] = \"CLICK\"                    \n",
    "        self.follow.grid(row = r, column = c)\n",
    "        \n",
    "        \n",
    "    def nope(self):\n",
    "        self.wrong.grid(row=4,column=1, columnspan=3)\n",
    "        \n",
    "    \n",
    "    def createWidgets(self):\n",
    "        self.QUIT = Button(self)\n",
    "        self.QUIT[\"text\"] = \"QUIT\"\n",
    "        self.QUIT[\"fg\"]   = \"red\"\n",
    "        self.QUIT[\"command\"] =  self.quit\n",
    "\n",
    "        self.QUIT.grid(row = 4, column = 4)\n",
    "        \n",
    "        self.follow = Button(self)\n",
    "        self.follow[\"text\"] = \"Start\"\n",
    "        self.follow[\"command\"] = self.rand\n",
    "        \n",
    "        self.show = Entry(self, width=4)\n",
    "        self.speed = StringVar()\n",
    "        self.show[\"textvariable\"] = self.speed\n",
    "        \n",
    "        self.show.grid(row=3,column=4)\n",
    "        \n",
    "        self.wrong = Entry(self)\n",
    "        self.wrong.insert('end', \"DONT PRESS THAT\")\n",
    "        \n",
    "        for i in range(1,4):\n",
    "            for j in range(1,4):\n",
    "                self.empty[str(i)+str(j)] = Button(self, text=\"          \")\n",
    "                self.empty[str(i)+str(j)][\"command\"] = self.nope\n",
    "                if (i,j) == (self.r, self.c):\n",
    "                    continue            \n",
    "                else:\n",
    "                    self.empty[str(i)+str(j)].grid(row = i, column = j)\n",
    " \n",
    "        self.follow.grid(row = self.r, column = self.c)\n",
    "            \n",
    "\n",
    "\n",
    "    def __init__(self, master=None):\n",
    "        Frame.__init__(self, master)\n",
    "        self.pack()\n",
    "        self.empty = {}\n",
    "        self.r = 2\n",
    "        self.c = 2\n",
    "        self.init = time.time()\n",
    "        self.createWidgets()\n",
    "\n",
    "\n",
    "root = Tk()\n",
    "app = Application(master=root)\n",
    "app.mainloop()\n",
    "root.destroy()"
   ]
  },
  {
   "cell_type": "code",
   "execution_count": null,
   "metadata": {
    "collapsed": true
   },
   "outputs": [],
   "source": []
  }
 ],
 "metadata": {
  "kernelspec": {
   "display_name": "Python 3",
   "language": "python",
   "name": "python3"
  },
  "language_info": {
   "codemirror_mode": {
    "name": "ipython",
    "version": 3
   },
   "file_extension": ".py",
   "mimetype": "text/x-python",
   "name": "python",
   "nbconvert_exporter": "python",
   "pygments_lexer": "ipython3",
   "version": "3.6.0"
  }
 },
 "nbformat": 4,
 "nbformat_minor": 2
}
