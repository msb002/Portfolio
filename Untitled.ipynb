{
 "cells": [
  {
   "cell_type": "code",
   "execution_count": 6,
   "metadata": {
    "collapsed": false
   },
   "outputs": [
    {
     "name": "stdout",
     "output_type": "stream",
     "text": [
      "check\n",
      "1\n",
      "0\n"
     ]
    },
    {
     "name": "stderr",
     "output_type": "stream",
     "text": [
      "Exception in Tkinter callback\n",
      "Traceback (most recent call last):\n",
      "  File \"/Applications/anaconda/lib/python3.6/tkinter/__init__.py\", line 1699, in __call__\n",
      "    return self.func(*args)\n",
      "  File \"/Applications/anaconda/lib/python3.6/tkinter/__init__.py\", line 745, in callit\n",
      "    func(*args)\n",
      "  File \"<ipython-input-6-9d5bc3de41cf>\", line 25, in animation\n",
      "    self.canvas.move(self.alien1, x, y)\n",
      "  File \"/Applications/anaconda/lib/python3.6/tkinter/__init__.py\", line 2585, in move\n",
      "    self.tk.call((self._w, 'move') + args)\n",
      "_tkinter.TclError: invalid command name \".!canvas\"\n"
     ]
    },
    {
     "data": {
      "text/plain": [
       "<__main__.alien at 0x10bc19390>"
      ]
     },
     "execution_count": 6,
     "metadata": {},
     "output_type": "execute_result"
    }
   ],
   "source": [
    "# Assuming Python 2.x\n",
    "# For Python 3.x support change print -> print(..) and Tkinter to tkinter\n",
    "from tkinter import *\n",
    "import time\n",
    "\n",
    "class alien(object):\n",
    "    def __init__(self):\n",
    "        self.root = Tk()\n",
    "        self.canvas = Canvas(self.root, width=400, height = 400)\n",
    "        self.canvas.pack()\n",
    "        self.alien1 = self.canvas.create_oval(20, 260, 120, 360, outline='white',         fill='blue')\n",
    "        self.alien2 = self.canvas.create_oval(2, 2, 40, 40, outline='white', fill='red')\n",
    "        self.canvas.grid()\n",
    "        self.root.after(0, self.animation)\n",
    "        self.root.mainloop()\n",
    "\n",
    "    def animation(self):\n",
    "        track = 0\n",
    "        while True:\n",
    "            x = 5\n",
    "            y = 0\n",
    "            if track == 0:\n",
    "                for i in range(0,51):\n",
    "                    time.sleep(0.025)\n",
    "                    self.canvas.move(self.alien1, x, y)\n",
    "                    self.canvas.move(self.alien2, x, y)\n",
    "                    self.canvas.update()\n",
    "                track = 1\n",
    "                print (\"check\")\n",
    "\n",
    "            else:\n",
    "                for i in range(0,51):\n",
    "                    time.sleep(0.025)\n",
    "                    self.canvas.move(self.alien1, -x, y)\n",
    "                    self.canvas.move(self.alien2, -x, y)\n",
    "                    self.canvas.update()\n",
    "                track = 0\n",
    "            print (track)\n",
    "\n",
    "alien()"
   ]
  },
  {
   "cell_type": "code",
   "execution_count": null,
   "metadata": {
    "collapsed": true
   },
   "outputs": [],
   "source": []
  }
 ],
 "metadata": {
  "kernelspec": {
   "display_name": "Python 3",
   "language": "python",
   "name": "python3"
  },
  "language_info": {
   "codemirror_mode": {
    "name": "ipython",
    "version": 3
   },
   "file_extension": ".py",
   "mimetype": "text/x-python",
   "name": "python",
   "nbconvert_exporter": "python",
   "pygments_lexer": "ipython3",
   "version": "3.6.0"
  }
 },
 "nbformat": 4,
 "nbformat_minor": 2
}
