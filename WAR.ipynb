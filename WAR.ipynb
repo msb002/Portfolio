{
 "cells": [
  {
   "cell_type": "code",
   "execution_count": 1,
   "metadata": {
    "collapsed": false
   },
   "outputs": [],
   "source": [
    "from tkinter import *\n",
    "from PIL import ImageTk, Image\n",
    "import numpy as np\n",
    "import random as rand"
   ]
  },
  {
   "cell_type": "code",
   "execution_count": 493,
   "metadata": {
    "collapsed": false
   },
   "outputs": [],
   "source": [
    "class War(object):\n",
    "    def __init__(self):\n",
    "        self.cards = {}\n",
    "        self.refs = []\n",
    "        for c in ['h','s','c','d']:\n",
    "            for i in range(13):\n",
    "                ref = c+str(i+1)\n",
    "                self.refs = np.append(self.refs, ref)\n",
    "                #self.cards[ref] = Image.open(\"cards/\"+ref+\".bmp\")\n",
    "        self.players = ['p1', 'p2', 'p3', 'p4']\n",
    "            \n",
    "\n",
    "    def deal(self):\n",
    "        hand = list(self.refs)\n",
    "        rand.shuffle(hand)\n",
    "        hand = np.resize(hand, (4,13))\n",
    "        self.p1 = hand[0]\n",
    "        self.p2 = hand[1]\n",
    "        self.p3 = hand[2]\n",
    "        self.p4 = hand[3]\n",
    "        self.hand = [self.p1, self.p2, self.p3, self.p4]\n",
    "        return\n",
    "\n",
    "    def draw(self):\n",
    "        play = []\n",
    "        spot = []\n",
    "        win = []\n",
    "        for i, array in enumerate(self.hand):\n",
    "            if len(array) == 0:\n",
    "                del self.hand[i]\n",
    "            else:\n",
    "                play = np.append(play, array[0])\n",
    "                self.hand[i] = np.delete(array, 0)\n",
    "\n",
    "        for i, card in enumerate(play):\n",
    "            win = np.append(win, int(play[i][1:]))\n",
    "        spots = np.where(win == max(win))\n",
    "        spots = spots[0]\n",
    "        if len(spots) == 1:\n",
    "            self.hand[spots[0]] = np.append(self.hand[spots[0]], play)\n",
    "            self.hand = self.hand[spots[0]:]+self.hand[:spots[0]]\n",
    "            self.players = self.players[spots[0]:]+self.players[:spots[0]]\n",
    "        else:\n",
    "            self.war(spots, winnings = play)\n",
    "        \n",
    "\n",
    "        return\n",
    "\n",
    "    def war(self, spots, winnings=[]):\n",
    "        winner = []\n",
    "        for i in spots:\n",
    "            winnings = np.append(winnings, self.hand[i][:4])\n",
    "            winner = np.append(winner, int(winnings[-1][1:]))\n",
    "            self.hand[i] = self.hand[i][4:]\n",
    "        newspot = np.where(winner == max(winner))[0]\n",
    "        if len(newspot) > 1:\n",
    "            self.war(newspot, winnings = winnings)\n",
    "        else:\n",
    "            win = spots[newspot[0]]\n",
    "            self.hand[win] = np.append(self.hand[win], winnings)\n",
    "            self.hand = self.hand[win:]+self.hand[:win]\n",
    "            self.players = self.players[win:]+self.players[:win]\n",
    "            \n"
   ]
  },
  {
   "cell_type": "code",
   "execution_count": 497,
   "metadata": {
    "collapsed": false
   },
   "outputs": [],
   "source": [
    "game = War()"
   ]
  },
  {
   "cell_type": "code",
   "execution_count": 498,
   "metadata": {
    "collapsed": false
   },
   "outputs": [],
   "source": [
    "game.deal()"
   ]
  },
  {
   "cell_type": "code",
   "execution_count": 499,
   "metadata": {
    "collapsed": false
   },
   "outputs": [
    {
     "name": "stdout",
     "output_type": "stream",
     "text": [
      "['p3', 'p4', 'p1', 'p2']\n",
      "['p2', 'p3', 'p4', 'p1']\n",
      "['p3', 'p4', 'p1', 'p2']\n",
      "['p1', 'p2', 'p3', 'p4']\n",
      "['p3', 'p4', 'p1', 'p2']\n",
      "['p3', 'p4', 'p1', 'p2']\n",
      "['p4', 'p1', 'p2', 'p3']\n",
      "['p3', 'p4', 'p1', 'p2']\n",
      "['p1', 'p2', 'p3', 'p4']\n",
      "['p2', 'p3', 'p4', 'p1']\n",
      "['p1', 'p2', 'p3', 'p4']\n",
      "['p2', 'p3', 'p4', 'p1']\n",
      "['p2', 'p3', 'p4', 'p1']\n",
      "['p1', 'p2', 'p3', 'p4']\n",
      "['p3', 'p4', 'p1', 'p2']\n",
      "['p1', 'p2', 'p3', 'p4']\n",
      "['p2', 'p3', 'p4', 'p1']\n",
      "['p3', 'p4', 'p1', 'p2']\n"
     ]
    }
   ],
   "source": [
    "while len(game.hand)>3:\n",
    "    game.draw()\n",
    "    print(game.players)"
   ]
  },
  {
   "cell_type": "markdown",
   "metadata": {},
   "source": [
    "# NOTES: GAME IS COMPLETE, MAKE GUI"
   ]
  },
  {
   "cell_type": "code",
   "execution_count": 492,
   "metadata": {
    "collapsed": false
   },
   "outputs": [
    {
     "data": {
      "text/plain": [
       "['p4', 'p1', 'p2', 'p3']"
      ]
     },
     "execution_count": 492,
     "metadata": {},
     "output_type": "execute_result"
    }
   ],
   "source": [
    "game.players"
   ]
  },
  {
   "cell_type": "code",
   "execution_count": 186,
   "metadata": {
    "collapsed": false
   },
   "outputs": [
    {
     "data": {
      "text/plain": [
       "2887.0"
      ]
     },
     "execution_count": 186,
     "metadata": {},
     "output_type": "execute_result"
    }
   ],
   "source": [
    "max(turns)"
   ]
  },
  {
   "cell_type": "code",
   "execution_count": 176,
   "metadata": {
    "collapsed": false
   },
   "outputs": [
    {
     "data": {
      "text/plain": [
       "10"
      ]
     },
     "execution_count": 176,
     "metadata": {},
     "output_type": "execute_result"
    }
   ],
   "source": [
    "len(turns)"
   ]
  },
  {
   "cell_type": "code",
   "execution_count": 242,
   "metadata": {
    "collapsed": false
   },
   "outputs": [],
   "source": [
    "fhand = [[\"h4\", 's8', 'h2', 'd12', 's11', 's10', 's9', 's8'], ['h1', 's3', 'h3', 'd10', 'd11', 'd10', 'd9', 'd7'], ['h3', 'h5', 'h12', 's12', 'h11', 'h10', 'h9', 'h6']]\n",
    "fspots = [0,1,2]\n",
    "\n",
    "def war(hand, spots, winnings=[]):\n",
    "        winner = []\n",
    "        for i in spots:\n",
    "            winnings = np.append(winnings, hand[i][:4])\n",
    "            winner = np.append(winner, int(hand[i][3][1:]))\n",
    "            hand[i] = hand[i][4:]\n",
    "        newspot = np.where(winner == max(winner))[0]\n",
    "        print(len(newspot))\n",
    "        if len(newspot) > 1:\n",
    "            print(newspot)\n",
    "            hand = war(hand, newspot, winnings=winnings)\n",
    "        else:\n",
    "            hand[newspot[0]] = np.append(hand[newspot[0]],winnings)\n",
    "        return hand\n"
   ]
  },
  {
   "cell_type": "code",
   "execution_count": 243,
   "metadata": {
    "collapsed": false
   },
   "outputs": [
    {
     "name": "stdout",
     "output_type": "stream",
     "text": [
      "2\n",
      "[0 2]\n",
      "1\n"
     ]
    },
    {
     "data": {
      "text/plain": [
       "[array(['h4', 's8', 'h2', 'd12', 'h1', 's3', 'h3', 'd10', 'h3', 'h5', 'h12',\n",
       "        's12', 's11', 's10', 's9', 's8', 'h11', 'h10', 'h9', 'h6'], \n",
       "       dtype='<U32'), ['d11', 'd10', 'd9', 'd7'], []]"
      ]
     },
     "execution_count": 243,
     "metadata": {},
     "output_type": "execute_result"
    }
   ],
   "source": [
    "war(fhand, fspots)"
   ]
  },
  {
   "cell_type": "code",
   "execution_count": null,
   "metadata": {
    "collapsed": true
   },
   "outputs": [],
   "source": []
  }
 ],
 "metadata": {
  "kernelspec": {
   "display_name": "Python 3",
   "language": "python",
   "name": "python3"
  },
  "language_info": {
   "codemirror_mode": {
    "name": "ipython",
    "version": 3
   },
   "file_extension": ".py",
   "mimetype": "text/x-python",
   "name": "python",
   "nbconvert_exporter": "python",
   "pygments_lexer": "ipython3",
   "version": "3.6.0"
  }
 },
 "nbformat": 4,
 "nbformat_minor": 2
}
